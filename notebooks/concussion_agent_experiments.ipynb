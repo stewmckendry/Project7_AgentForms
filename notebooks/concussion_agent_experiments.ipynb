{
 "cells": [
  {
   "cell_type": "markdown",
   "id": "4836f623",
   "metadata": {},
   "source": [
    "Placeholder evaluation runner for: \n",
    "- how to simulate a chat, \n",
    "- validate responses, \n",
    "- walk through logic manually"
   ]
  }
 ],
 "metadata": {
  "language_info": {
   "name": "python"
  }
 },
 "nbformat": 4,
 "nbformat_minor": 5
}
