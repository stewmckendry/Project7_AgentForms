{
 "cells": [
  {
   "cell_type": "code",
   "execution_count": 1,
   "id": "40995e94",
   "metadata": {},
   "outputs": [
    {
     "name": "stderr",
     "output_type": "stream",
     "text": [
      "[2025-04-17 10:43:58,963] [DEBUG] Logger setup complete\n",
      "[2025-04-17 10:43:58,964] [INFO] 🔧 Getting ready for OpenAI call...\n",
      "[2025-04-17 10:43:58,964] [INFO] 🔧 Loading environment variables to retrieve OpenAI API key...\n",
      "[2025-04-17 10:43:58,987] [INFO] ✅ OpenAI client initialized.\n"
     ]
    }
   ],
   "source": [
    "import sys\n",
    "import os\n",
    "\n",
    "sys.path.append(os.path.abspath(os.path.join(os.getcwd(), '..')))\n",
    "from src.models.llm_responsevalidators import (\n",
    "    llm_parse_date,\n",
    "    llm_interpret_yes_no,\n",
    "    llm_extract_symptoms\n",
    ")"
   ]
  },
  {
   "cell_type": "code",
   "execution_count": 2,
   "id": "7946d506",
   "metadata": {},
   "outputs": [
    {
     "name": "stderr",
     "output_type": "stream",
     "text": [
      "[2025-04-17 10:44:09,520] [INFO] Loading concussion flow from /Users/liammckendry/Project7_AgentForms/data/protocols/symptoms_reference.yaml\n"
     ]
    },
    {
     "name": "stdout",
     "output_type": "stream",
     "text": [
      "\n",
      "📝 Input: he said he had a pounding headache and felt foggy\n"
     ]
    },
    {
     "name": "stderr",
     "output_type": "stream",
     "text": [
      "[2025-04-17 10:44:10,890] [INFO] [OpenAI] Tokens used - Prompt: 720, Completion: 64, Total: 784\n",
      "[2025-04-17 10:44:10,891] [INFO] Loading concussion flow from /Users/liammckendry/Project7_AgentForms/data/protocols/symptoms_reference.yaml\n"
     ]
    },
    {
     "name": "stdout",
     "output_type": "stream",
     "text": [
      "{'value': ['Headache', 'Feeling slowed down'], 'certainty': 'high', 'parsed_by': 'llm', 'original_input': 'he said he had a pounding headache and felt foggy', 'thought': 'The user mentioned a pounding headache, which matches the symptom of a headache. Additionally, feeling foggy can be indicative of feeling slowed down or having cognitive difficulties, which is a common symptom after a head injury.', 'symptom_info': [{'name': 'Headache', 'category': 'physical', 'severity': 'moderate', 'description': 'A pain in the head that can range from mild to intense, sometimes described as a pressure sensation in the head.', 'flags': ['if the headache becomes very severe or gets worse over time', 'if the pain does not improve with rest or medication'], 'guidance': \"Monitor the headache's intensity. It is common after a concussion. Ensure rest and hydration; seek medical care if the headache worsens or does not improve.\"}, {'name': 'Feeling slowed down', 'category': 'cognitive', 'severity': 'moderate', 'description': 'A sensation that your thoughts, movements, or reactions are slower than normal, as if you are moving in slow motion or through a haze.', 'flags': ['if this feeling is very pronounced or does not improve after a few days', 'if it interferes significantly with everyday activities'], 'guidance': 'It is common to feel like you are thinking and reacting more slowly after a concussion. This typically gets better with rest. If the slow feeling is severe or is not improving after a few days, a medical check-up is advised.'}]}\n",
      "\n",
      "📝 Input: just seemed off, kind of dizzy and out of it\n"
     ]
    },
    {
     "name": "stderr",
     "output_type": "stream",
     "text": [
      "[2025-04-17 10:44:11,789] [INFO] [OpenAI] Tokens used - Prompt: 720, Completion: 55, Total: 775\n",
      "[2025-04-17 10:44:11,790] [INFO] Loading concussion flow from /Users/liammckendry/Project7_AgentForms/data/protocols/symptoms_reference.yaml\n"
     ]
    },
    {
     "name": "stdout",
     "output_type": "stream",
     "text": [
      "{'value': ['Dizziness', 'Confusion or disorientation'], 'certainty': 'high', 'parsed_by': 'llm', 'original_input': 'just seemed off, kind of dizzy and out of it', 'thought': 'The user mentioned feeling dizzy and out of it, which can indicate dizziness and confusion or disorientation, potentially linked to a concussion.', 'symptom_info': [{'name': 'Dizziness', 'category': 'physical', 'severity': 'moderate', 'description': 'Feeling lightheaded, unsteady, or like the surroundings are spinning.', 'flags': ['if dizziness does not go away or worsens over time', 'if it prevents standing or walking safely'], 'guidance': 'Have the person sit or lie down until dizziness passes. If the spinning sensation persists or gets worse instead of better, they should see a doctor.'}, {'name': 'Confusion or disorientation', 'category': 'cognitive', 'severity': 'moderate', 'description': 'Feeling confused or having difficulty understanding where you are, what you are doing, or the time and situation around you.', 'flags': ['if the person cannot recognize familiar people or places', 'if confusion gets worse or returns after initially clearing'], 'guidance': 'Some confusion is common immediately after a concussion and should improve with time. If someone still does not know who or where they are, or if their confusion is worsening, seek medical attention immediately.'}]}\n",
      "\n",
      "📝 Input: said her vision was blurry for a few minutes\n"
     ]
    },
    {
     "name": "stderr",
     "output_type": "stream",
     "text": [
      "[2025-04-17 10:44:12,525] [INFO] [OpenAI] Tokens used - Prompt: 718, Completion: 32, Total: 750\n",
      "[2025-04-17 10:44:12,526] [INFO] Loading concussion flow from /Users/liammckendry/Project7_AgentForms/data/protocols/symptoms_reference.yaml\n"
     ]
    },
    {
     "name": "stdout",
     "output_type": "stream",
     "text": [
      "{'value': ['Blurred vision'], 'certainty': 'high', 'parsed_by': 'llm', 'original_input': 'said her vision was blurry for a few minutes', 'thought': 'The user mentioned experiencing blurry vision, which is indicative of blurred vision symptom.', 'symptom_info': [{'name': 'Blurred vision', 'category': 'physical', 'severity': 'moderate', 'description': 'Vision that is not sharp or clear, making objects look fuzzy or out of focus.', 'flags': ['if double vision (seeing two images) occurs', 'if vision does not return to normal after rest'], 'guidance': 'Rest the eyes by avoiding reading or screen time for a while. If vision remains blurry or if the person starts seeing double, they should get medical care quickly.'}]}\n",
      "\n",
      "📝 Input: he complained of ringing in his ears and nausea\n"
     ]
    },
    {
     "name": "stderr",
     "output_type": "stream",
     "text": [
      "[2025-04-17 10:44:13,343] [INFO] [OpenAI] Tokens used - Prompt: 718, Completion: 32, Total: 750\n",
      "[2025-04-17 10:44:13,344] [INFO] Loading concussion flow from /Users/liammckendry/Project7_AgentForms/data/protocols/symptoms_reference.yaml\n"
     ]
    },
    {
     "name": "stdout",
     "output_type": "stream",
     "text": [
      "{'value': ['Nausea'], 'certainty': 'high', 'parsed_by': 'llm', 'original_input': 'he complained of ringing in his ears and nausea', 'thought': 'The user mentioned experiencing nausea, which is a known symptom of a concussion.', 'symptom_info': [{'name': 'Nausea', 'category': 'physical', 'severity': 'low', 'description': 'Feeling sick to your stomach, as if you might vomit.', 'flags': ['if nausea is severe or lasts a long time', 'if it leads to vomiting'], 'guidance': 'Nausea often happens soon after the injury and usually passes. If it persists for an extended period or results in vomiting, seek medical advice.'}]}\n",
      "\n",
      "📝 Input: I noticed she was acting slow and confused\n"
     ]
    },
    {
     "name": "stderr",
     "output_type": "stream",
     "text": [
      "[2025-04-17 10:44:14,264] [INFO] [OpenAI] Tokens used - Prompt: 717, Completion: 50, Total: 767\n",
      "[2025-04-17 10:44:14,265] [INFO] Loading concussion flow from /Users/liammckendry/Project7_AgentForms/data/protocols/symptoms_reference.yaml\n"
     ]
    },
    {
     "name": "stdout",
     "output_type": "stream",
     "text": [
      "{'value': ['feeling slowed down', 'confusion or disorientation'], 'certainty': 'high', 'parsed_by': 'llm', 'original_input': 'I noticed she was acting slow and confused', 'thought': 'The user mentioned that the person was acting slow and confused, indicating potential symptoms of feeling slowed down and confusion or disorientation.', 'symptom_info': [{'name': 'Feeling slowed down', 'category': 'cognitive', 'severity': 'moderate', 'description': 'A sensation that your thoughts, movements, or reactions are slower than normal, as if you are moving in slow motion or through a haze.', 'flags': ['if this feeling is very pronounced or does not improve after a few days', 'if it interferes significantly with everyday activities'], 'guidance': 'It is common to feel like you are thinking and reacting more slowly after a concussion. This typically gets better with rest. If the slow feeling is severe or is not improving after a few days, a medical check-up is advised.'}, {'name': 'Confusion or disorientation', 'category': 'cognitive', 'severity': 'moderate', 'description': 'Feeling confused or having difficulty understanding where you are, what you are doing, or the time and situation around you.', 'flags': ['if the person cannot recognize familiar people or places', 'if confusion gets worse or returns after initially clearing'], 'guidance': 'Some confusion is common immediately after a concussion and should improve with time. If someone still does not know who or where they are, or if their confusion is worsening, seek medical attention immediately.'}]}\n",
      "\n",
      "📝 Input: he just looked dazed and didn’t answer right away\n"
     ]
    },
    {
     "name": "stderr",
     "output_type": "stream",
     "text": [
      "[2025-04-17 10:44:15,575] [INFO] [OpenAI] Tokens used - Prompt: 720, Completion: 53, Total: 773\n",
      "[2025-04-17 10:44:15,577] [INFO] Loading concussion flow from /Users/liammckendry/Project7_AgentForms/data/protocols/symptoms_reference.yaml\n"
     ]
    },
    {
     "name": "stdout",
     "output_type": "stream",
     "text": [
      "{'value': ['Confusion or disorientation'], 'certainty': 'high', 'parsed_by': 'llm', 'original_input': 'he just looked dazed and didn’t answer right away', 'thought': \"The user's description of looking dazed and not answering right away suggests a possible state of confusion or disorientation, which is a symptom of concussion.\", 'symptom_info': [{'name': 'Confusion or disorientation', 'category': 'cognitive', 'severity': 'moderate', 'description': 'Feeling confused or having difficulty understanding where you are, what you are doing, or the time and situation around you.', 'flags': ['if the person cannot recognize familiar people or places', 'if confusion gets worse or returns after initially clearing'], 'guidance': 'Some confusion is common immediately after a concussion and should improve with time. If someone still does not know who or where they are, or if their confusion is worsening, seek medical attention immediately.'}]}\n",
      "\n",
      "📝 Input: head hurt, felt tired, didn’t want to skate\n"
     ]
    },
    {
     "name": "stderr",
     "output_type": "stream",
     "text": [
      "[2025-04-17 10:44:16,371] [INFO] [OpenAI] Tokens used - Prompt: 720, Completion: 37, Total: 757\n",
      "[2025-04-17 10:44:16,372] [INFO] Loading concussion flow from /Users/liammckendry/Project7_AgentForms/data/protocols/symptoms_reference.yaml\n"
     ]
    },
    {
     "name": "stdout",
     "output_type": "stream",
     "text": [
      "{'value': ['Headache', 'Fatigue or low energy'], 'certainty': 'high', 'parsed_by': 'llm', 'original_input': 'head hurt, felt tired, didn’t want to skate', 'thought': 'The user mentioned a headache and feeling tired, indicating possible concussion symptoms.', 'symptom_info': [{'name': 'Headache', 'category': 'physical', 'severity': 'moderate', 'description': 'A pain in the head that can range from mild to intense, sometimes described as a pressure sensation in the head.', 'flags': ['if the headache becomes very severe or gets worse over time', 'if the pain does not improve with rest or medication'], 'guidance': \"Monitor the headache's intensity. It is common after a concussion. Ensure rest and hydration; seek medical care if the headache worsens or does not improve.\"}, {'name': 'Fatigue or low energy', 'category': 'physical', 'severity': 'low', 'description': 'Feeling unusually tired or lacking energy, even after normal amounts of rest.', 'flags': ['if the fatigue worsens instead of improving over a few days', 'if low energy prevents basic daily activities'], 'guidance': 'It is normal to tire more easily. The person should get plenty of rest. If they continue to be extremely fatigued or it is not improving after several days, they should see a healthcare provider.'}]}\n",
      "\n",
      "📝 Input: felt okay at first, but later had a headache\n"
     ]
    },
    {
     "name": "stderr",
     "output_type": "stream",
     "text": [
      "[2025-04-17 10:44:16,941] [INFO] [OpenAI] Tokens used - Prompt: 719, Completion: 31, Total: 750\n",
      "[2025-04-17 10:44:16,943] [INFO] Loading concussion flow from /Users/liammckendry/Project7_AgentForms/data/protocols/symptoms_reference.yaml\n"
     ]
    },
    {
     "name": "stdout",
     "output_type": "stream",
     "text": [
      "{'value': ['Headache'], 'certainty': 'high', 'parsed_by': 'llm', 'original_input': 'felt okay at first, but later had a headache', 'thought': 'The user mentioned having a headache, which is a common symptom of concussion.', 'symptom_info': [{'name': 'Headache', 'category': 'physical', 'severity': 'moderate', 'description': 'A pain in the head that can range from mild to intense, sometimes described as a pressure sensation in the head.', 'flags': ['if the headache becomes very severe or gets worse over time', 'if the pain does not improve with rest or medication'], 'guidance': \"Monitor the headache's intensity. It is common after a concussion. Ensure rest and hydration; seek medical care if the headache worsens or does not improve.\"}]}\n",
      "\n",
      "📝 Input: she seemed fine, maybe just tired\n"
     ]
    },
    {
     "name": "stderr",
     "output_type": "stream",
     "text": [
      "[2025-04-17 10:44:17,952] [INFO] [OpenAI] Tokens used - Prompt: 716, Completion: 41, Total: 757\n",
      "[2025-04-17 10:44:17,953] [INFO] Loading concussion flow from /Users/liammckendry/Project7_AgentForms/data/protocols/symptoms_reference.yaml\n"
     ]
    },
    {
     "name": "stdout",
     "output_type": "stream",
     "text": [
      "{'value': ['Fatigue or low energy'], 'certainty': 'high', 'parsed_by': 'llm', 'original_input': 'she seemed fine, maybe just tired', 'thought': 'The user mentioned feeling tired, which aligns with the symptom of fatigue or low energy.', 'symptom_info': [{'name': 'Fatigue or low energy', 'category': 'physical', 'severity': 'low', 'description': 'Feeling unusually tired or lacking energy, even after normal amounts of rest.', 'flags': ['if the fatigue worsens instead of improving over a few days', 'if low energy prevents basic daily activities'], 'guidance': 'It is normal to tire more easily. The person should get plenty of rest. If they continue to be extremely fatigued or it is not improving after several days, they should see a healthcare provider.'}]}\n",
      "\n",
      "📝 Input: had a mild headache but said she was fine\n"
     ]
    },
    {
     "name": "stderr",
     "output_type": "stream",
     "text": [
      "[2025-04-17 10:44:19,078] [INFO] [OpenAI] Tokens used - Prompt: 718, Completion: 36, Total: 754\n"
     ]
    },
    {
     "name": "stdout",
     "output_type": "stream",
     "text": [
      "{'value': ['Headache'], 'certainty': 'high', 'parsed_by': 'llm', 'original_input': 'had a mild headache but said she was fine', 'thought': 'The user mentioned having a mild headache, which is a symptom of possible concussion.', 'symptom_info': [{'name': 'Headache', 'category': 'physical', 'severity': 'moderate', 'description': 'A pain in the head that can range from mild to intense, sometimes described as a pressure sensation in the head.', 'flags': ['if the headache becomes very severe or gets worse over time', 'if the pain does not improve with rest or medication'], 'guidance': \"Monitor the headache's intensity. It is common after a concussion. Ensure rest and hydration; seek medical care if the headache worsens or does not improve.\"}]}\n"
     ]
    }
   ],
   "source": [
    "inputs_symptoms = [\n",
    "    \"he said he had a pounding headache and felt foggy\",\n",
    "    \"just seemed off, kind of dizzy and out of it\",\n",
    "    \"said her vision was blurry for a few minutes\",\n",
    "    \"he complained of ringing in his ears and nausea\",\n",
    "    \"I noticed she was acting slow and confused\",\n",
    "    \"he just looked dazed and didn’t answer right away\",\n",
    "    \"head hurt, felt tired, didn’t want to skate\",\n",
    "    \"felt okay at first, but later had a headache\",\n",
    "    \"she seemed fine, maybe just tired\",\n",
    "    \"had a mild headache but said she was fine\"\n",
    "]\n",
    "\n",
    "for text in inputs_symptoms:\n",
    "    print(f\"\\n📝 Input: {text}\")\n",
    "    print(llm_extract_symptoms(text))"
   ]
  },
  {
   "cell_type": "code",
   "execution_count": null,
   "id": "a7081834",
   "metadata": {},
   "outputs": [],
   "source": [
    "inputs_dates = [\n",
    "    \"last Tuesday during practice\",\n",
    "    \"March 5th\",\n",
    "    \"a couple weeks ago\",\n",
    "    \"on the weekend\",\n",
    "    \"sometime early April\",\n",
    "    \"don’t remember exactly, maybe mid-January\",\n",
    "    \"Friday night, after the second period\",\n",
    "    \"it was yesterday afternoon\",\n",
    "    \"this morning before school\",\n",
    "    \"late last month\"\n",
    "]\n",
    "\n",
    "for text in inputs_dates:\n",
    "    print(f\"\\n📝 Input: {text}\")\n",
    "    print(llm_parse_date(text))"
   ]
  },
  {
   "cell_type": "code",
   "execution_count": null,
   "id": "88cf4745",
   "metadata": {},
   "outputs": [],
   "source": [
    "inputs_yesno = [\n",
    "    \"yeah, I think so\",\n",
    "    \"not really\",\n",
    "    \"absolutely\",\n",
    "    \"I guess so\",\n",
    "    \"he didn’t mention it\",\n",
    "    \"nope\",\n",
    "    \"probably not\",\n",
    "    \"yes, but only for a bit\",\n",
    "    \"no, he was fine\",\n",
    "    \"I’m not sure, maybe\"\n",
    "]\n",
    "\n",
    "for text in inputs_yesno:\n",
    "    print(f\"\\n📝 Input: {text}\")\n",
    "    print(llm_interpret_yes_no(text))"
   ]
  }
 ],
 "metadata": {
  "kernelspec": {
   "display_name": "Python (spaCy 3.11)",
   "language": "python",
   "name": "spacy_env"
  },
  "language_info": {
   "codemirror_mode": {
    "name": "ipython",
    "version": 3
   },
   "file_extension": ".py",
   "mimetype": "text/x-python",
   "name": "python",
   "nbconvert_exporter": "python",
   "pygments_lexer": "ipython3",
   "version": "3.11.8"
  }
 },
 "nbformat": 4,
 "nbformat_minor": 5
}
