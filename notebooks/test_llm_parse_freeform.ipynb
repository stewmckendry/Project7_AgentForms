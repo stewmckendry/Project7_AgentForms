{
 "cells": [
  {
   "cell_type": "code",
   "execution_count": 1,
   "id": "3fe75fc8",
   "metadata": {},
   "outputs": [
    {
     "name": "stderr",
     "output_type": "stream",
     "text": [
      "[2025-04-16 16:29:25,236] [INFO] 🔧 Getting ready for OpenAI call...\n",
      "[2025-04-16 16:29:25,236] [INFO] 🔧 Loading environment variables to retrieve OpenAI API key...\n",
      "[2025-04-16 16:29:25,259] [INFO] ✅ OpenAI client initialized.\n"
     ]
    }
   ],
   "source": [
    "import sys\n",
    "import os\n",
    "import json\n",
    "\n",
    "sys.path.append(os.path.abspath(os.path.join(os.getcwd(), '..')))\n",
    "from src.models.llm_analyze_freeform_input import analyze_freeform_input\n",
    "from src.utils.protocols.question_loader import extract_question_list_from_yaml"
   ]
  },
  {
   "cell_type": "code",
   "execution_count": null,
   "id": "4135d689",
   "metadata": {},
   "outputs": [],
   "source": [
    "known_questions = [\n",
    "    {\"id\": \"injury_date\", \"prompt\": \"When did the injury occur?\", \"type\": \"date\"},\n",
    "    {\"id\": \"activity_during_injury\", \"prompt\": \"What activity was the player doing at the time?\", \"type\": \"text\"},\n",
    "    {\"id\": \"symptoms\", \"prompt\": \"What symptoms did the player experience after the incident?\", \"type\": \"list\"},\n",
    "    {\"id\": \"seen_by_provider\", \"prompt\": \"Has the player been seen by a healthcare provider?\", \"type\": \"boolean\"},\n",
    "    {\"id\": \"treatment_received\", \"prompt\": \"What treatment has the player received since the injury?\", \"type\": \"text\"},\n",
    "]"
   ]
  },
  {
   "cell_type": "code",
   "execution_count": 2,
   "id": "96d6b16c",
   "metadata": {},
   "outputs": [],
   "source": [
    "free_text = (\n",
    "    \"During practice yesterday, one of our players got hit in the head by a line drive. \"\n",
    "    \"He sat out for a bit and looked kind of dizzy and off balance. \"\n",
    "    \"He said he had a bit of a headache, but insisted he was fine and went back in. \"\n",
    "    \"We haven't had him see a doctor yet, but I'm not sure if we should.\"\n",
    ")"
   ]
  },
  {
   "cell_type": "code",
   "execution_count": 3,
   "id": "0c8b1de4",
   "metadata": {},
   "outputs": [
    {
     "name": "stderr",
     "output_type": "stream",
     "text": [
      "[2025-04-16 16:29:33,883] [INFO] [OpenAI] Tokens used - Prompt: 409, Completion: 436, Total: 845\n"
     ]
    },
    {
     "name": "stdout",
     "output_type": "stream",
     "text": [
      "{\n",
      "  \"draft_responses\": {\n",
      "    \"reporter_role\": {\n",
      "      \"value\": \"Coach\",\n",
      "      \"certainty\": \"high\",\n",
      "      \"thought\": \"The user mentioned that they are a coach reporting about one of their players.\"\n",
      "    },\n",
      "    \"injury_date\": {\n",
      "      \"value\": \"Yesterday\",\n",
      "      \"certainty\": \"high\",\n",
      "      \"thought\": \"The user specified that the injury occurred during practice yesterday.\"\n",
      "    },\n",
      "    \"activity_at_time\": {\n",
      "      \"value\": \"Player got hit in the head by a line drive during practice\",\n",
      "      \"certainty\": \"high\",\n",
      "      \"thought\": \"The user described that the player was hit in the head by a line drive during practice.\"\n",
      "    },\n",
      "    \"symptoms\": {\n",
      "      \"value\": \"Dizziness, off balance, headache\",\n",
      "      \"certainty\": \"high\",\n",
      "      \"thought\": \"The user mentioned that the player looked kind of dizzy and off balance, and also had a bit of a headache.\"\n",
      "    },\n",
      "    \"lost_consciousness\": {\n",
      "      \"value\": \"No\",\n",
      "      \"certainty\": \"medium\",\n",
      "      \"thought\": \"There was no explicit mention of the player losing consciousness, so it is assumed they did not.\"\n",
      "    },\n",
      "    \"seen_provider\": {\n",
      "      \"value\": \"No\",\n",
      "      \"certainty\": \"high\",\n",
      "      \"thought\": \"The user stated that they have not had the player see a doctor yet.\"\n",
      "    },\n",
      "    \"diagnosed_concussion\": {\n",
      "      \"value\": null,\n",
      "      \"certainty\": \"low\",\n",
      "      \"thought\": \"There is no information provided about an official diagnosis of a concussion.\"\n",
      "    },\n",
      "    \"still_symptomatic\": {\n",
      "      \"value\": null,\n",
      "      \"certainty\": \"low\",\n",
      "      \"thought\": \"There is no information on whether the player is still experiencing symptoms.\"\n",
      "    },\n",
      "    \"cleared_to_play\": {\n",
      "      \"value\": null,\n",
      "      \"certainty\": \"low\",\n",
      "      \"thought\": \"There is no mention of the player being cleared to return to play by a professional yet.\"\n",
      "    }\n",
      "  },\n",
      "  \"summary_thought\": \"The player experienced dizziness, off balance, and a headache after being hit in the head during practice. They have not seen a healthcare provider yet, and there is no mention of a concussion diagnosis or clearance to return to play.\"\n",
      "}\n"
     ]
    }
   ],
   "source": [
    "results = analyze_freeform_input(free_text)\n",
    "\n",
    "print(json.dumps(results, indent=2))"
   ]
  }
 ],
 "metadata": {
  "kernelspec": {
   "display_name": "Python (spaCy 3.11)",
   "language": "python",
   "name": "spacy_env"
  },
  "language_info": {
   "codemirror_mode": {
    "name": "ipython",
    "version": 3
   },
   "file_extension": ".py",
   "mimetype": "text/x-python",
   "name": "python",
   "nbconvert_exporter": "python",
   "pygments_lexer": "ipython3",
   "version": "3.11.8"
  }
 },
 "nbformat": 4,
 "nbformat_minor": 5
}
