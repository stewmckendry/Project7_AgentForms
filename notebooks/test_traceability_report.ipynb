{
 "cells": [
  {
   "cell_type": "code",
   "execution_count": 1,
   "id": "0a1af729",
   "metadata": {},
   "outputs": [],
   "source": [
    "import sys\n",
    "import os\n",
    "import json\n",
    "\n",
    "sys.path.append(os.path.abspath(os.path.join(os.getcwd(), '..')))\n",
    "from src.utils.output.followup_reporting import build_followup_trace_report\n",
    "from src.models.agent.followup_generator import generate_followup_questions\n",
    "from src.models.agent.concussion_agent import ConcussionAgent\n",
    "from src.models.llm_analyze_freeform_input import analyze_freeform_input\n",
    "from src.utils.processing.process_draft_response import finalize_draft_responses"
   ]
  },
  {
   "cell_type": "code",
   "execution_count": 2,
   "id": "106008a2",
   "metadata": {},
   "outputs": [],
   "source": [
    "# initialize agent\n",
    "agent = ConcussionAgent()"
   ]
  },
  {
   "cell_type": "code",
   "execution_count": 3,
   "id": "cebc8493",
   "metadata": {},
   "outputs": [],
   "source": [
    "# load user input\n",
    "user_input = \"\"\"\n",
    "My son was hit in the head during baseball practice yesterday. He looked a bit off balance but said he felt okay, so he kept playing. He had a headache later that night. We haven't taken him to the doctor yet.\n",
    "\"\"\""
   ]
  },
  {
   "cell_type": "code",
   "execution_count": 4,
   "id": "03a51c69",
   "metadata": {},
   "outputs": [],
   "source": [
    "# analyze user input\n",
    "agent.initial_analysis = analyze_freeform_input(agent, user_input)"
   ]
  },
  {
   "cell_type": "code",
   "execution_count": 5,
   "id": "6fbad36a",
   "metadata": {},
   "outputs": [],
   "source": [
    "# more pro-processing for each question (based on type)\n",
    "finalize_draft_responses(agent)"
   ]
  },
  {
   "cell_type": "code",
   "execution_count": 6,
   "id": "a840691c",
   "metadata": {},
   "outputs": [],
   "source": [
    "followups = generate_followup_questions(agent)\n",
    "\n",
    "for f in followups:\n",
    "    print(f\"[{f['id']}] {f['followup']}  → Reason: {f['reason']}\")"
   ]
  },
  {
   "cell_type": "code",
   "execution_count": 8,
   "id": "dcdc7cf3",
   "metadata": {},
   "outputs": [],
   "source": [
    "report_md = build_followup_trace_report(agent, followups)\n",
    "\n",
    "with open(\"../outputs/followup_trace_report.md\", \"w\") as f:\n",
    "    f.write(report_md)\n",
    "\n",
    "print(\"✅ Report saved to outputs/followup_trace_report.md\")"
   ]
  }
 ],
 "metadata": {
  "kernelspec": {
   "display_name": "Python (spaCy 3.11)",
   "language": "python",
   "name": "spacy_env"
  },
  "language_info": {
   "codemirror_mode": {
    "name": "ipython",
    "version": 3
   },
   "file_extension": ".py",
   "mimetype": "text/x-python",
   "name": "python",
   "nbconvert_exporter": "python",
   "pygments_lexer": "ipython3",
   "version": "3.11.8"
  }
 },
 "nbformat": 4,
 "nbformat_minor": 5
}
